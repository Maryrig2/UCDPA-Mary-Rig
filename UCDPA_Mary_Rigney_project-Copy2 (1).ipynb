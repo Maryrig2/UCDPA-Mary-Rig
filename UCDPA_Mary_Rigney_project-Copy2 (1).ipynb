{
 "cells": [
  {
   "cell_type": "markdown",
   "id": "2bca56d8",
   "metadata": {},
   "source": [
    "# UCD Professional Academy - Data Analysis Project - Mary Rigney\n",
    "    \n"
   ]
  },
  {
   "cell_type": "markdown",
   "id": "69689a08",
   "metadata": {},
   "source": [
    "## Data Extraction"
   ]
  },
  {
   "cell_type": "markdown",
   "id": "5057f4c6",
   "metadata": {},
   "source": [
    "The dataset being used here is sourced by API from Fáilte Ireland's Open Data API. This provides information on accommodations  located in the Republic of Ireland. The location of the API is:\n",
    "\n",
    "https://failteireland.developer.azure-api.net/api-details#api=opendata-api-v1&operation=accommodation-csv\n",
    "\n",
    "This is the first phase of the Data Extraction and shows how data is extracted from an API.\n",
    "\n",
    "The license is Creative Commons.\n"
   ]
  },
  {
   "cell_type": "markdown",
   "id": "5147c550",
   "metadata": {},
   "source": [
    "The first file to be extracted via API is accommodations.csv. To do this I am importing the urllib.request and json.\n"
   ]
  },
  {
   "cell_type": "code",
   "execution_count": null,
   "id": "908e57e8",
   "metadata": {},
   "outputs": [],
   "source": [
    "import urllib.request, json\n",
    "\n",
    "try:\n",
    "    url = \"https://failteireland.azure-api.net/opendata-api/v1/accommodation/csv\"\n",
    "\n",
    "    hdr ={\n",
    "    # Request headers\n",
    "        \n",
    "    'Cache-Control': 'no-cache',\n",
    "    }\n",
    "\n",
    "    req = urllib.request.Request(url, headers=hdr)\n",
    "\n",
    "    # Get API data\n",
    "    req.get_method = lambda: 'GET'\n",
    "    response = urllib.request.urlopen(req)    \n",
    "      \n",
    "    # This should be 200 if successful\n",
    "    if response:\n",
    "      print('Request is successful')       \n",
    "    else:\n",
    "      print('Request returned an error') \n",
    "    \n",
    "    # Read the data\n",
    "    readdata = response.read()\n",
    "    \n",
    "    # Print the data to see what it looks like\n",
    "    print(readdata)\n",
    "\n",
    "       \n",
    "except Exception as e:\n",
    "        print(e)\n",
    "    \n"
   ]
  },
  {
   "cell_type": "markdown",
   "id": "22bd8a0b",
   "metadata": {},
   "source": [
    "Now that the data has been brought down via the API, I'm saving to a .csv file so that I can clean and manipulate the data."
   ]
  },
  {
   "cell_type": "code",
   "execution_count": null,
   "id": "b334015e",
   "metadata": {},
   "outputs": [],
   "source": [
    "import csv\n",
    "\n",
    "# Write the data to a csv file    \n",
    "with open(r'C:\\Users\\maryp\\OneDrive\\Documents\\Data Analysis course\\accomodation.csv','wb') as f:\n",
    "        f.write(readdata)\n",
    "        f.close()\n",
    "    "
   ]
  },
  {
   "cell_type": "markdown",
   "id": "4543bc18",
   "metadata": {},
   "source": [
    "The next step is to import the CSV file from the API and import it into a Pandas DataFrame.  The data.head() will show the first 5 lines of the file."
   ]
  },
  {
   "cell_type": "code",
   "execution_count": null,
   "id": "928655ba",
   "metadata": {
    "scrolled": true
   },
   "outputs": [],
   "source": [
    "import pandas as pd\n",
    "data = pd.read_csv(r'C:\\Users\\maryp\\OneDrive\\Documents\\Data Analysis course\\accomodation.csv')\n",
    "data.head() # to display the first 5 lines of loaded data "
   ]
  },
  {
   "cell_type": "markdown",
   "id": "288df867",
   "metadata": {},
   "source": [
    "Check the shape of the data to find out how many rows and columns are in the data."
   ]
  },
  {
   "cell_type": "code",
   "execution_count": null,
   "id": "004688b7",
   "metadata": {},
   "outputs": [],
   "source": [
    "print(data.shape)"
   ]
  },
  {
   "cell_type": "markdown",
   "id": "7ec1814e",
   "metadata": {},
   "source": [
    "Check the datatypes - this tells the datatype for each column.  Longitude and Latitude are stored as float64 which is suitable for storing these values.  The rest are stored as objects."
   ]
  },
  {
   "cell_type": "code",
   "execution_count": null,
   "id": "8bf14bab",
   "metadata": {},
   "outputs": [],
   "source": [
    "print(data.dtypes)"
   ]
  },
  {
   "cell_type": "markdown",
   "id": "4b29296f",
   "metadata": {},
   "source": [
    "Next check the data for missing data or nulls - running the code below we can see that the url, telephone and AddressLocality contain missing or null data, so these need to be examined "
   ]
  },
  {
   "cell_type": "code",
   "execution_count": null,
   "id": "864b6c40",
   "metadata": {},
   "outputs": [],
   "source": [
    "null_values_count = data.isnull().any()\n",
    "print(null_values_count)"
   ]
  },
  {
   "cell_type": "markdown",
   "id": "e2f447fb",
   "metadata": {},
   "source": [
    "First examine the Url column - some accomodatations do not have any url associated - so we will replace these with text \"No Web Address\".  There are 173 rows with no Url.  Write a function to correct the data."
   ]
  },
  {
   "cell_type": "markdown",
   "id": "891d8372",
   "metadata": {},
   "source": [
    "# Write a function to clean up the Url data or should we drop data with no url?"
   ]
  },
  {
   "cell_type": "markdown",
   "id": "f8fbcc3f",
   "metadata": {},
   "source": [
    "Next examine the Telephone column.  There are 4 accomodations with no telephone number.  These will be replaced by the text 'No telephone'."
   ]
  },
  {
   "cell_type": "markdown",
   "id": "e84278c8",
   "metadata": {},
   "source": [
    "Looking at the accommodations file in Excel - some of the telephone numbers are not in the right format - these will need to be fixed. Some of the telephone numbers are just all digits instead of starting with '+353(0)...'.  We need to find these and fix them. "
   ]
  },
  {
   "cell_type": "markdown",
   "id": "2669bffb",
   "metadata": {},
   "source": [
    "# Write a function to clean up the Telephone data"
   ]
  },
  {
   "cell_type": "code",
   "execution_count": null,
   "id": "93d14aa5",
   "metadata": {},
   "outputs": [],
   "source": [
    "import re\n",
    "\n",
    "# Get all the telephone numbers into  list and count how many there are\n",
    "\n",
    "data.info()\n",
    "telephone_list = data['Telephone'].tolist()\n",
    "print(len(telephone_list))\n",
    "type(telephone_list)\n",
    "\n",
    "# find all the entries in the list that contain +353 i.e. are correct\n",
    "#pattern = '+353'\n",
    "#output = re.findall(pattern,telephone_list)\n",
    "#print(len(output))"
   ]
  },
  {
   "cell_type": "markdown",
   "id": "b5bf6997",
   "metadata": {},
   "source": [
    "# Write a function to standardise the country - some are Ireland and other Republic of Ireland - make them all Republic of Ireland"
   ]
  },
  {
   "cell_type": "markdown",
   "id": "b4aa178c",
   "metadata": {},
   "source": [
    "# There is an accomodation with no url or telephone no - drop this from the file"
   ]
  },
  {
   "cell_type": "code",
   "execution_count": null,
   "id": "e0469460",
   "metadata": {},
   "outputs": [],
   "source": [
    "missing_values_count = data.isnull().sum()\n",
    "print(missing_values_count[0:9])"
   ]
  },
  {
   "cell_type": "code",
   "execution_count": null,
   "id": "78b1a5c9",
   "metadata": {},
   "outputs": [],
   "source": [
    "cleaned_data = data.fillna(0)\n",
    "print(cleaned_data)"
   ]
  },
  {
   "cell_type": "code",
   "execution_count": null,
   "id": "8b58ab1d",
   "metadata": {},
   "outputs": [],
   "source": [
    "drop_duplicates= data.drop_duplicates()\n",
    "print(data.shape,drop_duplicates.shape)"
   ]
  },
  {
   "cell_type": "code",
   "execution_count": null,
   "id": "e25fbf96",
   "metadata": {},
   "outputs": [],
   "source": [
    "dropcolumns = data.dropna(axis=1)\n",
    "print(data.shape,dropcolumns.shape)"
   ]
  },
  {
   "cell_type": "code",
   "execution_count": null,
   "id": "153a1fc1",
   "metadata": {},
   "outputs": [],
   "source": [
    "print(data)"
   ]
  },
  {
   "cell_type": "code",
   "execution_count": null,
   "id": "3dcc4cc7",
   "metadata": {},
   "outputs": [],
   "source": [
    "import pandas, numpy #for data cleaning"
   ]
  },
  {
   "cell_type": "code",
   "execution_count": null,
   "id": "5207ebe6",
   "metadata": {},
   "outputs": [],
   "source": [
    "#regex for matching patterns\n",
    "import re\n",
    "re.findall(r\"somestring\",\"where to find in somestring\")"
   ]
  },
  {
   "cell_type": "code",
   "execution_count": null,
   "id": "fc410db0",
   "metadata": {},
   "outputs": [],
   "source": [
    "#for splitting strings\n",
    "re.split(r\"!\",\"wonderful cafe! we should come back soon!\")\n",
    "         "
   ]
  },
  {
   "cell_type": "code",
   "execution_count": null,
   "id": "1757d9f0",
   "metadata": {},
   "outputs": [],
   "source": [
    "# for substituting values - use for AddressCountry\n",
    "re.sub(r\"Ireland\",\"Republic of Ireland\",\"Ireland\")"
   ]
  },
  {
   "cell_type": "code",
   "execution_count": null,
   "id": "6c615e24",
   "metadata": {},
   "outputs": [],
   "source": [
    "# SQL what examples can I give of running sql on the dataset?  SQLread?\n",
    "# API - have example above\n",
    "import requests\n",
    "# Make a get request\n",
    "request=requests.get('http://api.open-notify.org/')\n",
    "# Print request status code\n",
    "print(request.status_code)\n",
    "# Print request text\n",
    "print(request.text)"
   ]
  },
  {
   "cell_type": "code",
   "execution_count": null,
   "id": "a36a6c2e",
   "metadata": {},
   "outputs": [],
   "source": [
    "request=requests.get('http://api.open-notify.org/iss-now.json')\n",
    "# Print request status code\n",
    "print(request.status_code)\n",
    "# Print request text\n",
    "print(request.text)"
   ]
  },
  {
   "cell_type": "code",
   "execution_count": null,
   "id": "821cea5f",
   "metadata": {},
   "outputs": [],
   "source": [
    "request=requests.get('http://api.open-notify.org/astros.json')\n",
    "# Print request status code\n",
    "print(request.status_code)\n",
    "# Print request text\n",
    "print(request.text)\n"
   ]
  },
  {
   "cell_type": "code",
   "execution_count": null,
   "id": "e92e8c92",
   "metadata": {},
   "outputs": [],
   "source": [
    "# parsing json data\n",
    "data=request.json()\n",
    "\n",
    "# Printing data\n",
    "print(data['number'])\n",
    "\n",
    "for p in data['people']:\n",
    "    print(p['name'])"
   ]
  },
  {
   "cell_type": "code",
   "execution_count": null,
   "id": "65d85a61",
   "metadata": {},
   "outputs": [],
   "source": [
    "# Read 2 csv and join them\n",
    "\n",
    "canadian_youtube = pd.read_csv(r\"C:\\Users\\maryp\\OneDrive\\Documents\\Data Analysis course\\CAvideos.csv\")\n",
    "british_youtube = pd.read_csv(r\"C:\\Users\\maryp\\OneDrive\\Documents\\Data Analysis course\\GBvideos.csv\")"
   ]
  },
  {
   "cell_type": "code",
   "execution_count": null,
   "id": "f955133d",
   "metadata": {},
   "outputs": [],
   "source": [
    "canadian_youtube.head()\n"
   ]
  },
  {
   "cell_type": "code",
   "execution_count": null,
   "id": "dcc3a992",
   "metadata": {},
   "outputs": [],
   "source": [
    "canadian_youtube.shape"
   ]
  },
  {
   "cell_type": "code",
   "execution_count": null,
   "id": "e274254e",
   "metadata": {},
   "outputs": [],
   "source": [
    "british_youtube.head()"
   ]
  },
  {
   "cell_type": "code",
   "execution_count": null,
   "id": "280d46eb",
   "metadata": {},
   "outputs": [],
   "source": [
    "british_youtube.shape"
   ]
  },
  {
   "cell_type": "code",
   "execution_count": null,
   "id": "a0e21cf2",
   "metadata": {},
   "outputs": [],
   "source": [
    "# fetching trending videos from the same date\n",
    "left = canadian_youtube.set_index(['title', 'trending_date'])\n",
    "right = british_youtube.set_index(['title', 'trending_date'])"
   ]
  },
  {
   "cell_type": "code",
   "execution_count": null,
   "id": "9fa13c1c",
   "metadata": {},
   "outputs": [],
   "source": [
    "join_data = left.join(right, lsuffix='_CAN', rsuffix='_UK')\n",
    "print(join_data)"
   ]
  },
  {
   "cell_type": "code",
   "execution_count": null,
   "id": "e6ef813e",
   "metadata": {},
   "outputs": [],
   "source": [
    "# Merge data\n",
    "merged_data= pd.merge(left,right,on='video_id')\n",
    "print( merged_data)"
   ]
  },
  {
   "cell_type": "code",
   "execution_count": null,
   "id": "b768cb42",
   "metadata": {},
   "outputs": [],
   "source": [
    "# check shape after joining\n",
    "print(left.shape, right.shape)\n",
    "print(join_data.shape, merged_data.shape)\n"
   ]
  },
  {
   "cell_type": "code",
   "execution_count": null,
   "id": "63bb19de",
   "metadata": {},
   "outputs": [],
   "source": [
    "# Merge using joins\n",
    "merged_data= pd.merge(left, \n",
    "right [['video_id','views','likes','dislikes']], \n",
    "on='video_id’,\n",
    "how='left/right/outer')\n"
   ]
  },
  {
   "cell_type": "code",
   "execution_count": null,
   "id": "0492ff38",
   "metadata": {},
   "outputs": [],
   "source": [
    "# Visualizing with Matplotlib\n",
    "\n",
    "import matplotlib.pyplot as plt\n",
    "fig,ax = plt.subplots()\n",
    "plt.show()\n"
   ]
  },
  {
   "cell_type": "code",
   "execution_count": null,
   "id": "21d2723d",
   "metadata": {},
   "outputs": [],
   "source": [
    "data= pd.read_csv(r\"C:\\Users\\maryp\\OneDrive\\Documents\\Data Analysis course\\GBvideos.csv\")"
   ]
  },
  {
   "cell_type": "code",
   "execution_count": null,
   "id": "17b196b0",
   "metadata": {},
   "outputs": [],
   "source": [
    "x = data['channel_title'].head(5)\n",
    "y1 = data['views'].head(5)\n",
    "y2 = data['likes'].head(5)"
   ]
  },
  {
   "cell_type": "code",
   "execution_count": null,
   "id": "9f392e1d",
   "metadata": {},
   "outputs": [],
   "source": [
    "ax.plot(x,y1)\n",
    "ax.plot(x,y2)\n"
   ]
  },
  {
   "cell_type": "code",
   "execution_count": null,
   "id": "8b7763d7",
   "metadata": {},
   "outputs": [],
   "source": [
    "ax.plot(x,y1, marker=\"v\", linestyle=\"--\", color=\"r\")"
   ]
  },
  {
   "cell_type": "markdown",
   "id": "8fc0a397",
   "metadata": {},
   "source": [
    "matplotlib markers https://matplotlib.org/stable/api/markers_api.html\n",
    "\n",
    "matplotlib info https://matplotlib.org/stable/\n",
    "\n",
    "matplotlib colour https://matplotlib.org/stable/gallery/color/named_colors.html\n",
    "\n",
    "matplotlib cheatsheet https://s3.amazonaws.com/assets.datacamp.com/blog_assets/Python_Matplotlib_Cheat_Sheet.pdf\n",
    "\n",
    "seaborn https://seaborn.pydata.org/examples/index.html\n",
    "\n",
    "seaborn python https://seaborn.pydata.org/examples/index.html\n",
    "\n",
    "seaborn python cheat sheet https://s3.amazonaws.com/assets.datacamp.com/blog_assets/Python_Seaborn_Cheat_Sheet.pdf\n"
   ]
  },
  {
   "cell_type": "markdown",
   "id": "2bf6ce55",
   "metadata": {},
   "source": [
    "Machine Learning - Session 9 handout - packages numpy, pandas, matplotlib, scikit-learn, seaborn\n",
    "types of Learning - Session 10 handout - Supervised, unsupervised, semi-supervised - classification, regression"
   ]
  },
  {
   "cell_type": "markdown",
   "id": "c5f632d7",
   "metadata": {},
   "source": [
    "Four questions\n",
    "⬡ 1. What data is important to show?\n",
    "⬡ 2. What do I want to emphasize in the data?\n",
    "⬡ 3. What options do I have for displaying this \n",
    "data?\n",
    "⬡ 4. Which option is most effective in \n",
    "communicating the data?\n",
    "\n",
    "Session 11"
   ]
  },
  {
   "cell_type": "markdown",
   "id": "9fda4ffa",
   "metadata": {},
   "source": [
    "Session 12 - deep learning\n",
    "Session 13 - deep learning 2\n",
    "Session 14 - hyperparameter tuning\n",
    "Session 15 - boosting"
   ]
  },
  {
   "cell_type": "code",
   "execution_count": null,
   "id": "d6943283",
   "metadata": {},
   "outputs": [],
   "source": []
  }
 ],
 "metadata": {
  "kernelspec": {
   "display_name": "Python 3 (ipykernel)",
   "language": "python",
   "name": "python3"
  },
  "language_info": {
   "codemirror_mode": {
    "name": "ipython",
    "version": 3
   },
   "file_extension": ".py",
   "mimetype": "text/x-python",
   "name": "python",
   "nbconvert_exporter": "python",
   "pygments_lexer": "ipython3",
   "version": "3.9.13"
  }
 },
 "nbformat": 4,
 "nbformat_minor": 5
}
