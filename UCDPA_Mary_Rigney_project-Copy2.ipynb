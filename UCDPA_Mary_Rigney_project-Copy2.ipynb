{
 "cells": [
  {
   "cell_type": "markdown",
   "id": "2bca56d8",
   "metadata": {},
   "source": [
    "# UCD Professional Academy - Data Analysis Project - Mary Rigney\n",
    "    \n"
   ]
  },
  {
   "cell_type": "markdown",
   "id": "5057f4c6",
   "metadata": {},
   "source": [
    "The dataset being used here is sourced by API from Fáilte Ireland's Open Data API. This provides information on accommodations  located in the Republic of Ireland. The location of the API is:\n",
    "\n",
    "https://failteireland.developer.azure-api.net/api-details#api=opendata-api-v1&operation=accommodation-csv\n",
    "\n",
    "This is the first phase of the Data Extraction and shows how data is extracted from an API.\n",
    "\n",
    "The license is Creative Commons.\n"
   ]
  },
  {
   "cell_type": "markdown",
   "id": "5147c550",
   "metadata": {},
   "source": [
    "The first file to be extracted via API is accommodations.csv. To do this I am importing the urllib.request and json.\n"
   ]
  },
  {
   "cell_type": "code",
   "execution_count": null,
   "id": "908e57e8",
   "metadata": {},
   "outputs": [],
   "source": [
    "import urllib.request, json\n",
    "\n",
    "try:\n",
    "    url = \"https://failteireland.azure-api.net/opendata-api/v1/accommodation/csv\"\n",
    "\n",
    "    hdr ={\n",
    "    # Request headers\n",
    "        \n",
    "    'Cache-Control': 'no-cache',\n",
    "    }\n",
    "\n",
    "    req = urllib.request.Request(url, headers=hdr)\n",
    "\n",
    "    # Get API data\n",
    "    req.get_method = lambda: 'GET'\n",
    "    response = urllib.request.urlopen(req)    \n",
    "      \n",
    "    # This should be 200 if successful\n",
    "    if response:\n",
    "      print('Request is successful')       \n",
    "    else:\n",
    "      print('Request returned an error') \n",
    "    \n",
    "    # Read the data\n",
    "    readdata = response.read()\n",
    "    \n",
    "    # Print the data to see what it looks like\n",
    "    print(readdata)\n",
    "\n",
    "       \n",
    "except Exception as e:\n",
    "        print(e)\n",
    "    \n"
   ]
  },
  {
   "cell_type": "markdown",
   "id": "22bd8a0b",
   "metadata": {},
   "source": [
    "Now that the data has been brought down via the API, I'm saving to a .csv file so that I can clean and manipulate the data."
   ]
  },
  {
   "cell_type": "code",
   "execution_count": null,
   "id": "b334015e",
   "metadata": {},
   "outputs": [],
   "source": [
    "import csv\n",
    "\n",
    "# Write the data to a csv file    \n",
    "with open(r'C:\\Users\\maryp\\OneDrive\\Documents\\Data Analysis course\\accomodation.csv','wb') as f:\n",
    "        f.write(readdata)\n",
    "        f.close()\n",
    "    "
   ]
  },
  {
   "cell_type": "markdown",
   "id": "4543bc18",
   "metadata": {},
   "source": [
    "The next step is to import the CSV file from the API and import it into a Pandas DataFrame.  The data.head() will show the first 5 lines of the file."
   ]
  },
  {
   "cell_type": "code",
   "execution_count": null,
   "id": "928655ba",
   "metadata": {
    "scrolled": true
   },
   "outputs": [],
   "source": [
    "import pandas as pd\n",
    "data = pd.read_csv(r'C:\\Users\\maryp\\OneDrive\\Documents\\Data Analysis course\\accomodation.csv')\n",
    "data.head() # to display the first 5 lines of loaded data "
   ]
  },
  {
   "cell_type": "markdown",
   "id": "288df867",
   "metadata": {},
   "source": [
    "Check the shape of the data to find out how many rows and columns are in the data, there are 2387 rows and 9 columns."
   ]
  },
  {
   "cell_type": "code",
   "execution_count": null,
   "id": "004688b7",
   "metadata": {},
   "outputs": [],
   "source": [
    "print(data.shape)"
   ]
  },
  {
   "cell_type": "markdown",
   "id": "7ec1814e",
   "metadata": {},
   "source": [
    "Check the datatypes - this tells the datatype for each column.  Longitude and Latitude are stored as float64 which is suitable for storing these values.  The rest are stored as objects."
   ]
  },
  {
   "cell_type": "code",
   "execution_count": null,
   "id": "8bf14bab",
   "metadata": {},
   "outputs": [],
   "source": [
    "print(data.dtypes)"
   ]
  },
  {
   "cell_type": "markdown",
   "id": "4b29296f",
   "metadata": {},
   "source": [
    "Next check the data for nulls - running the code below we can see that the url, telephone and AddressLocality contain missing or null data, so these need to be examined "
   ]
  },
  {
   "cell_type": "code",
   "execution_count": null,
   "id": "864b6c40",
   "metadata": {},
   "outputs": [],
   "source": [
    "data.isnull().any()"
   ]
  },
  {
   "cell_type": "markdown",
   "id": "e2f447fb",
   "metadata": {},
   "source": [
    "First examine the Url column - some accomodatations do not have any url associated - so we will replace these with text \"No Web Address\".  There are 173 rows with no Url.  Write a function to correct the data."
   ]
  },
  {
   "cell_type": "code",
   "execution_count": null,
   "id": "7a0fa357",
   "metadata": {},
   "outputs": [],
   "source": [
    "# Write a function to clean up the Url data"
   ]
  },
  {
   "cell_type": "markdown",
   "id": "f8fbcc3f",
   "metadata": {},
   "source": [
    "Next examine the Telephone column.  There are 4 accomodations with no telephone number.  These will be replaced by the text 'No telephone'."
   ]
  },
  {
   "cell_type": "markdown",
   "id": "e84278c8",
   "metadata": {},
   "source": [
    "Looking at the accommodations file in Excel - some of the telephone numbers are not in the right format - these will need to be fixed. Some of the telephone numbers are just all digits instead of starting with '+353(0)...'.  We need to find these and fix them. "
   ]
  },
  {
   "cell_type": "code",
   "execution_count": null,
   "id": "404a2f0f",
   "metadata": {},
   "outputs": [],
   "source": [
    "# Write a function to clean up the Telephone data"
   ]
  },
  {
   "cell_type": "code",
   "execution_count": null,
   "id": "93d14aa5",
   "metadata": {},
   "outputs": [],
   "source": [
    "import re\n",
    "\n",
    "# Get all the telephone numbers into  list and count how many there are\n",
    "\n",
    "data.info()\n",
    "telephone_list = data['Telephone'].tolist()\n",
    "print(len(telephone_list))\n",
    "type(telephone_list)\n",
    "\n",
    "# find all the entries in the list that contain +353 i.e. are correct\n",
    "#pattern = '+353'\n",
    "#output = re.findall(pattern,telephone_list)\n",
    "#print(len(output))"
   ]
  },
  {
   "cell_type": "code",
   "execution_count": null,
   "id": "a2b3ff2f",
   "metadata": {},
   "outputs": [],
   "source": []
  }
 ],
 "metadata": {
  "kernelspec": {
   "display_name": "Python 3 (ipykernel)",
   "language": "python",
   "name": "python3"
  },
  "language_info": {
   "codemirror_mode": {
    "name": "ipython",
    "version": 3
   },
   "file_extension": ".py",
   "mimetype": "text/x-python",
   "name": "python",
   "nbconvert_exporter": "python",
   "pygments_lexer": "ipython3",
   "version": "3.9.13"
  }
 },
 "nbformat": 4,
 "nbformat_minor": 5
}
